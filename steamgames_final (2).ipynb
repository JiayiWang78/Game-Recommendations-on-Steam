{
 "cells": [
  {
   "cell_type": "markdown",
   "id": "-A1w5WEI-fA0",
   "metadata": {
    "id": "-A1w5WEI-fA0"
   },
   "source": [
    "### Install and import libraries\n"
   ]
  },
  {
   "cell_type": "code",
   "execution_count": 2,
   "id": "6b4dfba4-feec-4a70-a056-8770b8fc54b3",
   "metadata": {
    "id": "6b4dfba4-feec-4a70-a056-8770b8fc54b3",
    "outputId": "314412e0-7d64-4631-cecb-52c10d9c6e6c"
   },
   "outputs": [
    {
     "name": "stdout",
     "output_type": "stream",
     "text": [
      "Requirement already satisfied: surprise in c:\\users\\w1305\\anaconda3\\lib\\site-packages (0.1)\n",
      "Requirement already satisfied: scikit-surprise in c:\\users\\w1305\\anaconda3\\lib\\site-packages (from surprise) (1.1.4)\n",
      "Requirement already satisfied: joblib>=1.2.0 in c:\\users\\w1305\\anaconda3\\lib\\site-packages (from scikit-surprise->surprise) (1.4.2)\n",
      "Requirement already satisfied: numpy>=1.19.5 in c:\\users\\w1305\\anaconda3\\lib\\site-packages (from scikit-surprise->surprise) (1.26.4)\n",
      "Requirement already satisfied: scipy>=1.6.0 in c:\\users\\w1305\\anaconda3\\lib\\site-packages (from scikit-surprise->surprise) (1.13.1)\n"
     ]
    }
   ],
   "source": [
    "!pip install surprise"
   ]
  },
  {
   "cell_type": "code",
   "execution_count": 3,
   "id": "5defd44f-fcee-490a-a8e4-da19a20e375e",
   "metadata": {
    "id": "5defd44f-fcee-490a-a8e4-da19a20e375e"
   },
   "outputs": [],
   "source": [
    "import pandas as pd\n",
    "import numpy as np\n",
    "import json\n",
    "import tensorflow as tf\n",
    "from tensorflow import keras\n",
    "from sklearn.preprocessing import LabelEncoder\n",
    "from sklearn.model_selection import train_test_split\n",
    "from surprise import Dataset, Reader\n",
    "from surprise import SVD\n",
    "from surprise.model_selection import train_test_split, cross_validate\n",
    "from surprise import accuracy\n",
    "from surprise import KNNBasic"
   ]
  },
  {
   "cell_type": "code",
   "execution_count": 4,
   "id": "6e0f6057-3e8b-4003-9586-cf23f230520e",
   "metadata": {
    "id": "6e0f6057-3e8b-4003-9586-cf23f230520e",
    "outputId": "a7118234-44b8-4afc-9227-ec3f6fff8e4e"
   },
   "outputs": [
    {
     "name": "stdout",
     "output_type": "stream",
     "text": [
      "C:\\Users\\w1305\\Downloads\n"
     ]
    }
   ],
   "source": [
    "import os\n",
    "print(os.getcwd())"
   ]
  },
  {
   "cell_type": "markdown",
   "id": "Dn5KkaFB-xCM",
   "metadata": {
    "id": "Dn5KkaFB-xCM"
   },
   "source": [
    "### Set working directory"
   ]
  },
  {
   "cell_type": "code",
   "execution_count": 6,
   "id": "4a03a54f-5d2c-46eb-9ac5-0cb204a01419",
   "metadata": {
    "id": "4a03a54f-5d2c-46eb-9ac5-0cb204a01419",
    "outputId": "0f1bcce8-faf1-45ac-a0a9-20272f86a90b"
   },
   "outputs": [
    {
     "name": "stdout",
     "output_type": "stream",
     "text": [
      "C:\\Users\\w1305\\Downloads\n"
     ]
    }
   ],
   "source": [
    "os.chdir(r\"C:\\Users\\w1305\\Downloads\")\n",
    "print(os.getcwd())"
   ]
  },
  {
   "cell_type": "markdown",
   "id": "_ldLIqGj-2jE",
   "metadata": {
    "id": "_ldLIqGj-2jE"
   },
   "source": [
    "### Step1: Load and preprocess game metadata\n"
   ]
  },
  {
   "cell_type": "code",
   "execution_count": 8,
   "id": "26314f04-93fa-4098-b0c7-4fdde365827f",
   "metadata": {
    "id": "26314f04-93fa-4098-b0c7-4fdde365827f"
   },
   "outputs": [],
   "source": [
    "# Read the JSON Lines formatted file\n",
    "json_file_path = \"games_metadata.json\"\n",
    "metadata_list = []\n",
    "\n",
    "with open(json_file_path, \"r\", encoding=\"utf-8\") as file:\n",
    "    for line in file:\n",
    "        try:\n",
    "            metadata_list.append(json.loads(line.strip()))\n",
    "        except json.JSONDecodeError:\n",
    "            continue\n",
    "\n",
    "metadata_df = pd.DataFrame(metadata_list)\n",
    "\n",
    "# Keep only the necessary fields\n",
    "metadata_df = metadata_df[[\"app_id\", \"tags\"]]\n",
    "\n",
    "# Convert tags to string format (to avoid NaN)\n",
    "metadata_df[\"tags\"] = metadata_df[\"tags\"].apply(lambda x: \" \".join(x) if isinstance(x, list) else \"\")"
   ]
  },
  {
   "cell_type": "markdown",
   "id": "x6N2xdjr_WsF",
   "metadata": {
    "id": "x6N2xdjr_WsF"
   },
   "source": [
    "### Step 2: Load game data and merge with metadata"
   ]
  },
  {
   "cell_type": "code",
   "execution_count": 10,
   "id": "1c9829c2-c076-4f2a-999a-f6dcf0bf531b",
   "metadata": {
    "id": "1c9829c2-c076-4f2a-999a-f6dcf0bf531b"
   },
   "outputs": [],
   "source": [
    "steam_data = pd.read_csv(\"steamgame.csv\")\n",
    "steam_data[\"app_id\"] = steam_data[\"app_id\"].astype(int)\n",
    "metadata_df[\"app_id\"] = metadata_df[\"app_id\"].astype(int)\n",
    "\n",
    "# Merge game data and tag data (based on app_id)\n",
    "steam_data = steam_data.merge(metadata_df, on=\"app_id\", how=\"left\")\n",
    "steam_data[\"tags\"] = steam_data[\"tags\"].fillna(\"\").astype(str)"
   ]
  },
  {
   "cell_type": "markdown",
   "id": "X7YY_crA_hqZ",
   "metadata": {
    "id": "X7YY_crA_hqZ"
   },
   "source": [
    "### Step 3: Load user and recommendation data"
   ]
  },
  {
   "cell_type": "code",
   "execution_count": 12,
   "id": "0cac632d-a733-42ff-8210-3ba50170104e",
   "metadata": {
    "id": "0cac632d-a733-42ff-8210-3ba50170104e"
   },
   "outputs": [],
   "source": [
    "# Load datasets\n",
    "users_df = pd.read_csv(\"users.csv\")\n",
    "recommendations_df = pd.read_csv(\"recommendations.csv\")"
   ]
  },
  {
   "cell_type": "code",
   "execution_count": 13,
   "id": "0489be46-f28a-403b-9b13-be1c41dec3c4",
   "metadata": {
    "id": "0489be46-f28a-403b-9b13-be1c41dec3c4",
    "outputId": "c3a6b242-13a1-4952-912a-b4dad5a10d17"
   },
   "outputs": [
    {
     "data": {
      "text/html": [
       "<div>\n",
       "<style scoped>\n",
       "    .dataframe tbody tr th:only-of-type {\n",
       "        vertical-align: middle;\n",
       "    }\n",
       "\n",
       "    .dataframe tbody tr th {\n",
       "        vertical-align: top;\n",
       "    }\n",
       "\n",
       "    .dataframe thead th {\n",
       "        text-align: right;\n",
       "    }\n",
       "</style>\n",
       "<table border=\"1\" class=\"dataframe\">\n",
       "  <thead>\n",
       "    <tr style=\"text-align: right;\">\n",
       "      <th></th>\n",
       "      <th>app_id</th>\n",
       "      <th>title</th>\n",
       "      <th>date_release</th>\n",
       "      <th>win</th>\n",
       "      <th>mac</th>\n",
       "      <th>linux</th>\n",
       "      <th>rating</th>\n",
       "      <th>positive_ratio</th>\n",
       "      <th>user_reviews</th>\n",
       "      <th>price_final</th>\n",
       "      <th>price_original</th>\n",
       "      <th>discount</th>\n",
       "      <th>steam_deck</th>\n",
       "      <th>tags</th>\n",
       "    </tr>\n",
       "  </thead>\n",
       "  <tbody>\n",
       "    <tr>\n",
       "      <th>0</th>\n",
       "      <td>13500</td>\n",
       "      <td>Prince of Persia: Warrior Within™</td>\n",
       "      <td>11/21/2008</td>\n",
       "      <td>True</td>\n",
       "      <td>False</td>\n",
       "      <td>False</td>\n",
       "      <td>Very Positive</td>\n",
       "      <td>84</td>\n",
       "      <td>2199</td>\n",
       "      <td>9.99</td>\n",
       "      <td>9.99</td>\n",
       "      <td>0</td>\n",
       "      <td>True</td>\n",
       "      <td>Action Adventure Parkour Third Person Great So...</td>\n",
       "    </tr>\n",
       "    <tr>\n",
       "      <th>1</th>\n",
       "      <td>22364</td>\n",
       "      <td>BRINK: Agents of Change</td>\n",
       "      <td>8/3/2011</td>\n",
       "      <td>True</td>\n",
       "      <td>False</td>\n",
       "      <td>False</td>\n",
       "      <td>Positive</td>\n",
       "      <td>85</td>\n",
       "      <td>21</td>\n",
       "      <td>2.99</td>\n",
       "      <td>2.99</td>\n",
       "      <td>0</td>\n",
       "      <td>True</td>\n",
       "      <td>Action</td>\n",
       "    </tr>\n",
       "    <tr>\n",
       "      <th>2</th>\n",
       "      <td>113020</td>\n",
       "      <td>Monaco: What's Yours Is Mine</td>\n",
       "      <td>4/24/2013</td>\n",
       "      <td>True</td>\n",
       "      <td>True</td>\n",
       "      <td>True</td>\n",
       "      <td>Very Positive</td>\n",
       "      <td>92</td>\n",
       "      <td>3722</td>\n",
       "      <td>14.99</td>\n",
       "      <td>14.99</td>\n",
       "      <td>0</td>\n",
       "      <td>True</td>\n",
       "      <td>Co-op Stealth Indie Heist Local Co-Op Strategy...</td>\n",
       "    </tr>\n",
       "    <tr>\n",
       "      <th>3</th>\n",
       "      <td>226560</td>\n",
       "      <td>Escape Dead Island</td>\n",
       "      <td>11/18/2014</td>\n",
       "      <td>True</td>\n",
       "      <td>False</td>\n",
       "      <td>False</td>\n",
       "      <td>Mixed</td>\n",
       "      <td>61</td>\n",
       "      <td>873</td>\n",
       "      <td>14.99</td>\n",
       "      <td>14.99</td>\n",
       "      <td>0</td>\n",
       "      <td>True</td>\n",
       "      <td>Zombies Adventure Survival Action Third Person...</td>\n",
       "    </tr>\n",
       "    <tr>\n",
       "      <th>4</th>\n",
       "      <td>249050</td>\n",
       "      <td>Dungeon of the ENDLESS™</td>\n",
       "      <td>10/27/2014</td>\n",
       "      <td>True</td>\n",
       "      <td>True</td>\n",
       "      <td>False</td>\n",
       "      <td>Very Positive</td>\n",
       "      <td>88</td>\n",
       "      <td>8784</td>\n",
       "      <td>11.99</td>\n",
       "      <td>11.99</td>\n",
       "      <td>0</td>\n",
       "      <td>True</td>\n",
       "      <td>Roguelike Strategy Tower Defense Pixel Graphic...</td>\n",
       "    </tr>\n",
       "  </tbody>\n",
       "</table>\n",
       "</div>"
      ],
      "text/plain": [
       "   app_id                              title date_release   win    mac  linux  \\\n",
       "0   13500  Prince of Persia: Warrior Within™   11/21/2008  True  False  False   \n",
       "1   22364            BRINK: Agents of Change     8/3/2011  True  False  False   \n",
       "2  113020       Monaco: What's Yours Is Mine    4/24/2013  True   True   True   \n",
       "3  226560                 Escape Dead Island   11/18/2014  True  False  False   \n",
       "4  249050            Dungeon of the ENDLESS™   10/27/2014  True   True  False   \n",
       "\n",
       "          rating  positive_ratio  user_reviews  price_final  price_original  \\\n",
       "0  Very Positive              84          2199         9.99            9.99   \n",
       "1       Positive              85            21         2.99            2.99   \n",
       "2  Very Positive              92          3722        14.99           14.99   \n",
       "3          Mixed              61           873        14.99           14.99   \n",
       "4  Very Positive              88          8784        11.99           11.99   \n",
       "\n",
       "   discount  steam_deck                                               tags  \n",
       "0         0        True  Action Adventure Parkour Third Person Great So...  \n",
       "1         0        True                                             Action  \n",
       "2         0        True  Co-op Stealth Indie Heist Local Co-Op Strategy...  \n",
       "3         0        True  Zombies Adventure Survival Action Third Person...  \n",
       "4         0        True  Roguelike Strategy Tower Defense Pixel Graphic...  "
      ]
     },
     "execution_count": 13,
     "metadata": {},
     "output_type": "execute_result"
    }
   ],
   "source": [
    "steam_data.head()"
   ]
  },
  {
   "cell_type": "code",
   "execution_count": 14,
   "id": "abe8a4e9-4244-45a3-81bd-e5ee75e7b648",
   "metadata": {
    "id": "abe8a4e9-4244-45a3-81bd-e5ee75e7b648",
    "outputId": "dc80a49a-d34a-4bf5-cf92-c5af93d4417a"
   },
   "outputs": [
    {
     "data": {
      "text/html": [
       "<div>\n",
       "<style scoped>\n",
       "    .dataframe tbody tr th:only-of-type {\n",
       "        vertical-align: middle;\n",
       "    }\n",
       "\n",
       "    .dataframe tbody tr th {\n",
       "        vertical-align: top;\n",
       "    }\n",
       "\n",
       "    .dataframe thead th {\n",
       "        text-align: right;\n",
       "    }\n",
       "</style>\n",
       "<table border=\"1\" class=\"dataframe\">\n",
       "  <thead>\n",
       "    <tr style=\"text-align: right;\">\n",
       "      <th></th>\n",
       "      <th>app_id</th>\n",
       "      <th>helpful</th>\n",
       "      <th>funny</th>\n",
       "      <th>date</th>\n",
       "      <th>is_recommended</th>\n",
       "      <th>hours</th>\n",
       "      <th>user_id</th>\n",
       "      <th>review_id</th>\n",
       "    </tr>\n",
       "  </thead>\n",
       "  <tbody>\n",
       "    <tr>\n",
       "      <th>0</th>\n",
       "      <td>975370</td>\n",
       "      <td>0</td>\n",
       "      <td>0</td>\n",
       "      <td>2022-12-12</td>\n",
       "      <td>True</td>\n",
       "      <td>36.3</td>\n",
       "      <td>51580</td>\n",
       "      <td>0</td>\n",
       "    </tr>\n",
       "    <tr>\n",
       "      <th>1</th>\n",
       "      <td>304390</td>\n",
       "      <td>4</td>\n",
       "      <td>0</td>\n",
       "      <td>2017-02-17</td>\n",
       "      <td>False</td>\n",
       "      <td>11.5</td>\n",
       "      <td>2586</td>\n",
       "      <td>1</td>\n",
       "    </tr>\n",
       "    <tr>\n",
       "      <th>2</th>\n",
       "      <td>1085660</td>\n",
       "      <td>2</td>\n",
       "      <td>0</td>\n",
       "      <td>2019-11-17</td>\n",
       "      <td>True</td>\n",
       "      <td>336.5</td>\n",
       "      <td>253880</td>\n",
       "      <td>2</td>\n",
       "    </tr>\n",
       "    <tr>\n",
       "      <th>3</th>\n",
       "      <td>703080</td>\n",
       "      <td>0</td>\n",
       "      <td>0</td>\n",
       "      <td>2022-09-23</td>\n",
       "      <td>True</td>\n",
       "      <td>27.4</td>\n",
       "      <td>259432</td>\n",
       "      <td>3</td>\n",
       "    </tr>\n",
       "    <tr>\n",
       "      <th>4</th>\n",
       "      <td>526870</td>\n",
       "      <td>0</td>\n",
       "      <td>0</td>\n",
       "      <td>2021-01-10</td>\n",
       "      <td>True</td>\n",
       "      <td>7.9</td>\n",
       "      <td>23869</td>\n",
       "      <td>4</td>\n",
       "    </tr>\n",
       "  </tbody>\n",
       "</table>\n",
       "</div>"
      ],
      "text/plain": [
       "    app_id  helpful  funny        date  is_recommended  hours  user_id  \\\n",
       "0   975370        0      0  2022-12-12            True   36.3    51580   \n",
       "1   304390        4      0  2017-02-17           False   11.5     2586   \n",
       "2  1085660        2      0  2019-11-17            True  336.5   253880   \n",
       "3   703080        0      0  2022-09-23            True   27.4   259432   \n",
       "4   526870        0      0  2021-01-10            True    7.9    23869   \n",
       "\n",
       "   review_id  \n",
       "0          0  \n",
       "1          1  \n",
       "2          2  \n",
       "3          3  \n",
       "4          4  "
      ]
     },
     "execution_count": 14,
     "metadata": {},
     "output_type": "execute_result"
    }
   ],
   "source": [
    "recommendations_df.head()"
   ]
  },
  {
   "cell_type": "code",
   "execution_count": 15,
   "id": "7159b4ab-94be-4fda-93b9-0e1d5c9d4e00",
   "metadata": {
    "id": "7159b4ab-94be-4fda-93b9-0e1d5c9d4e00",
    "outputId": "afb0809a-a064-462d-8f68-865ccff4930e"
   },
   "outputs": [
    {
     "name": "stdout",
     "output_type": "stream",
     "text": [
      "count    4.115479e+07\n",
      "mean     1.006022e+02\n",
      "std      1.761675e+02\n",
      "min      0.000000e+00\n",
      "25%      7.800000e+00\n",
      "50%      2.730000e+01\n",
      "75%      9.920000e+01\n",
      "max      1.000000e+03\n",
      "Name: hours, dtype: float64\n"
     ]
    }
   ],
   "source": [
    "print(recommendations_df[\"hours\"].describe())"
   ]
  },
  {
   "cell_type": "code",
   "execution_count": 16,
   "id": "1c8608fc-9e5f-4f58-bdb1-cd78d32c471a",
   "metadata": {
    "id": "1c8608fc-9e5f-4f58-bdb1-cd78d32c471a",
    "outputId": "adc68b51-62bb-4bc5-e05d-f63e178fba50"
   },
   "outputs": [
    {
     "data": {
      "text/html": [
       "<div>\n",
       "<style scoped>\n",
       "    .dataframe tbody tr th:only-of-type {\n",
       "        vertical-align: middle;\n",
       "    }\n",
       "\n",
       "    .dataframe tbody tr th {\n",
       "        vertical-align: top;\n",
       "    }\n",
       "\n",
       "    .dataframe thead th {\n",
       "        text-align: right;\n",
       "    }\n",
       "</style>\n",
       "<table border=\"1\" class=\"dataframe\">\n",
       "  <thead>\n",
       "    <tr style=\"text-align: right;\">\n",
       "      <th></th>\n",
       "      <th>user_id</th>\n",
       "      <th>products</th>\n",
       "      <th>reviews</th>\n",
       "    </tr>\n",
       "  </thead>\n",
       "  <tbody>\n",
       "    <tr>\n",
       "      <th>0</th>\n",
       "      <td>7360263</td>\n",
       "      <td>359</td>\n",
       "      <td>0</td>\n",
       "    </tr>\n",
       "    <tr>\n",
       "      <th>1</th>\n",
       "      <td>14020781</td>\n",
       "      <td>156</td>\n",
       "      <td>1</td>\n",
       "    </tr>\n",
       "    <tr>\n",
       "      <th>2</th>\n",
       "      <td>8762579</td>\n",
       "      <td>329</td>\n",
       "      <td>4</td>\n",
       "    </tr>\n",
       "    <tr>\n",
       "      <th>3</th>\n",
       "      <td>4820647</td>\n",
       "      <td>176</td>\n",
       "      <td>4</td>\n",
       "    </tr>\n",
       "    <tr>\n",
       "      <th>4</th>\n",
       "      <td>5167327</td>\n",
       "      <td>98</td>\n",
       "      <td>2</td>\n",
       "    </tr>\n",
       "  </tbody>\n",
       "</table>\n",
       "</div>"
      ],
      "text/plain": [
       "    user_id  products  reviews\n",
       "0   7360263       359        0\n",
       "1  14020781       156        1\n",
       "2   8762579       329        4\n",
       "3   4820647       176        4\n",
       "4   5167327        98        2"
      ]
     },
     "execution_count": 16,
     "metadata": {},
     "output_type": "execute_result"
    }
   ],
   "source": [
    "users_df.head()"
   ]
  },
  {
   "cell_type": "markdown",
   "id": "XCHFq29m_rk_",
   "metadata": {
    "id": "XCHFq29m_rk_"
   },
   "source": [
    "### Step 4: Merge recommendations with game and user data"
   ]
  },
  {
   "cell_type": "code",
   "execution_count": 18,
   "id": "d007de4a-de61-4023-87f3-bca1ff30850c",
   "metadata": {
    "id": "d007de4a-de61-4023-87f3-bca1ff30850c",
    "outputId": "7fce706f-eb87-4f1e-cae2-ea803ed2ac28"
   },
   "outputs": [
    {
     "name": "stdout",
     "output_type": "stream",
     "text": [
      "           app_id  helpful  funny        date  is_recommended  hours  \\\n",
      "0          975370        0      0  2022-12-12            True   36.3   \n",
      "1          304390        4      0  2017-02-17           False   11.5   \n",
      "2         1085660        2      0  2019-11-17            True  336.5   \n",
      "3          703080        0      0  2022-09-23            True   27.4   \n",
      "4          526870        0      0  2021-01-10            True    7.9   \n",
      "...           ...      ...    ...         ...             ...    ...   \n",
      "41154789   633230        0      0  2021-02-15            True   41.0   \n",
      "41154790   758870        8      0  2019-07-18           False    8.0   \n",
      "41154791   696170        3     10  2018-03-26           False    2.0   \n",
      "41154792   696170        0      0  2018-06-11            True    4.0   \n",
      "41154793  1089980        2      0  2020-09-16            True   14.0   \n",
      "\n",
      "           user_id  review_id                              title date_release  \\\n",
      "0            51580          0                     Dwarf Fortress    12/6/2022   \n",
      "1             2586          1                         FOR HONOR™    2/13/2017   \n",
      "2           253880          2                          Destiny 2    10/1/2019   \n",
      "3           259432          3                         Planet Zoo    11/5/2019   \n",
      "4            23869          4                       Satisfactory     6/8/2020   \n",
      "...            ...        ...                                ...          ...   \n",
      "41154789   1606890   41154789  NARUTO TO BORUTO: SHINOBI STRIKER    6/29/2023   \n",
      "41154790   1786254   41154790                            Kynseed    12/6/2022   \n",
      "41154791   6370324   41154791   SENRAN KAGURA Peach Beach Splash     3/7/2018   \n",
      "41154792   1044289   41154792   SENRAN KAGURA Peach Beach Splash     3/7/2018   \n",
      "41154793  13971935   41154793      The Henry Stickmin Collection     8/7/2020   \n",
      "\n",
      "          ...                   rating  positive_ratio  user_reviews  \\\n",
      "0         ...  Overwhelmingly Positive              95         19665   \n",
      "1         ...                    Mixed              69         82277   \n",
      "2         ...            Very Positive              81        562723   \n",
      "3         ...            Very Positive              90         60113   \n",
      "4         ...  Overwhelmingly Positive              97        119866   \n",
      "...       ...                      ...             ...           ...   \n",
      "41154789  ...            Very Positive              85         40328   \n",
      "41154790  ...            Very Positive              80          2125   \n",
      "41154791  ...            Very Positive              80          3312   \n",
      "41154792  ...            Very Positive              80          3312   \n",
      "41154793  ...  Overwhelmingly Positive              98         37065   \n",
      "\n",
      "         price_final  price_original  discount  steam_deck  \\\n",
      "0              30.00            0.00         0        True   \n",
      "1              15.00            0.00         0        True   \n",
      "2               0.00            0.00         0        True   \n",
      "3              45.00            0.00         0        True   \n",
      "4              30.00            0.00         0        True   \n",
      "...              ...             ...       ...         ...   \n",
      "41154789       20.00            0.00         0        True   \n",
      "41154790       24.99           24.99         0        True   \n",
      "41154791       29.99           29.99         0        True   \n",
      "41154792       29.99           29.99         0        True   \n",
      "41154793        7.00            0.00         0        True   \n",
      "\n",
      "                                                       tags  products  reviews  \n",
      "0                                                                  28        5  \n",
      "1                                                                 269        1  \n",
      "2                                                                 237        2  \n",
      "3                                                                   5        2  \n",
      "4                                                                  13        2  \n",
      "...                                                     ...       ...      ...  \n",
      "41154789                                                           26        2  \n",
      "41154790  RPG Sandbox Pixel Graphics Life Sim Farming Si...      1667       14  \n",
      "41154791  Sexual Content Nudity Anime Mature Female Prot...       538       57  \n",
      "41154792  Sexual Content Nudity Anime Mature Female Prot...       102       11  \n",
      "41154793                                                          197       14  \n",
      "\n",
      "[41154794 rows x 23 columns]\n"
     ]
    }
   ],
   "source": [
    "# Merge recommendations with game details\n",
    "recommendations_games = recommendations_df.merge(steam_data, on=\"app_id\", how=\"left\")\n",
    "\n",
    "# Merge recommendations with user details\n",
    "recommendations_full = recommendations_games.merge(users_df, on=\"user_id\", how=\"left\")\n",
    "print(recommendations_full)"
   ]
  },
  {
   "cell_type": "code",
   "execution_count": 19,
   "id": "028136e4-d0e1-42fc-b682-97177a732d01",
   "metadata": {
    "id": "028136e4-d0e1-42fc-b682-97177a732d01",
    "outputId": "57d26692-ecf0-43ee-89d5-90250ed617cd"
   },
   "outputs": [
    {
     "name": "stdout",
     "output_type": "stream",
     "text": [
      "(41154794, 23)\n",
      "user_id    0\n",
      "app_id     0\n",
      "dtype: int64\n",
      "app_id              int64\n",
      "helpful             int64\n",
      "funny               int64\n",
      "date               object\n",
      "is_recommended       bool\n",
      "hours             float64\n",
      "user_id             int64\n",
      "review_id           int64\n",
      "title              object\n",
      "date_release       object\n",
      "win                  bool\n",
      "mac                  bool\n",
      "linux                bool\n",
      "rating             object\n",
      "positive_ratio      int64\n",
      "user_reviews        int64\n",
      "price_final       float64\n",
      "price_original    float64\n",
      "discount            int64\n",
      "steam_deck           bool\n",
      "tags               object\n",
      "products            int64\n",
      "reviews             int64\n",
      "dtype: object\n"
     ]
    }
   ],
   "source": [
    "print(recommendations_full.shape)\n",
    "print(recommendations_full[['user_id', 'app_id']].isnull().sum())\n",
    "print(recommendations_full.dtypes)"
   ]
  },
  {
   "cell_type": "code",
   "execution_count": 20,
   "id": "77312468-00d7-411e-9af4-91bab2e4cc4c",
   "metadata": {
    "id": "77312468-00d7-411e-9af4-91bab2e4cc4c",
    "outputId": "56cbe26f-6ff0-40fd-bfd4-1b8073fdef66"
   },
   "outputs": [
    {
     "name": "stdout",
     "output_type": "stream",
     "text": [
      "['Overwhelmingly Positive' 'Mixed' 'Very Positive' 'Mostly Positive'\n",
      " 'Positive' 'Mostly Negative' 'Overwhelmingly Negative' 'Negative'\n",
      " 'Very Negative']\n"
     ]
    }
   ],
   "source": [
    "unique_ratings = recommendations_full[\"rating\"].unique()\n",
    "print(unique_ratings)"
   ]
  },
  {
   "cell_type": "markdown",
   "id": "JAJttAs2_yL0",
   "metadata": {
    "id": "JAJttAs2_yL0"
   },
   "source": [
    "### Step 5: Filter the data for active users and popular games\n",
    "\n",
    "Select the top 5,000 most active users and top 5,000 most played games.\n",
    "Also, filter out entries with playtime (hours) less than 2.5 to remove low engagement records."
   ]
  },
  {
   "cell_type": "code",
   "execution_count": 22,
   "id": "949835b6-47f4-4dc8-b3eb-c38b27048141",
   "metadata": {
    "id": "949835b6-47f4-4dc8-b3eb-c38b27048141",
    "outputId": "4f9296e2-dbe5-4dbf-fb19-673fd8ffb06f"
   },
   "outputs": [
    {
     "name": "stdout",
     "output_type": "stream",
     "text": [
      "           app_id  helpful  funny        date  is_recommended  hours  \\\n",
      "422        435150       83      0  2017-12-15            True  199.9   \n",
      "425        275850        0      0  2020-10-10            True   13.6   \n",
      "691        105600        5      3  2014-09-28            True  911.8   \n",
      "712       1794680        0      0  2022-02-19            True   77.3   \n",
      "1180       686810        6      0  2020-07-20            True   67.4   \n",
      "...           ...      ...    ...         ...             ...    ...   \n",
      "41154313   203160        2      0  2014-01-29            True   10.0   \n",
      "41154516   979640        3      0  2021-08-16           False   10.0   \n",
      "41154723   897450        0      0  2020-11-12            True    6.0   \n",
      "41154771   362960        0      0  2019-07-06            True   35.0   \n",
      "41154784   633230        0      0  2021-06-21           False   20.0   \n",
      "\n",
      "           user_id  review_id                                          title  \\\n",
      "422        6334645        422  Divinity: Original Sin 2 - Definitive Edition   \n",
      "425        6484333        425                                   No Man's Sky   \n",
      "691       10383001        691                                       Terraria   \n",
      "712       11659871        712                              Vampire Survivors   \n",
      "1180       8691685       1180                                 Hell Let Loose   \n",
      "...            ...        ...                                            ...   \n",
      "41154313   6528047   41154313                                    Tomb Raider   \n",
      "41154516    836357   41154516                               Cepheus Protocol   \n",
      "41154723   8857084   41154723                               The Survivalists   \n",
      "41154771   7858713   41154771                                        Tyranny   \n",
      "41154784   8107668   41154784              NARUTO TO BORUTO: SHINOBI STRIKER   \n",
      "\n",
      "         date_release  ...                   rating  positive_ratio  \\\n",
      "422         9/14/2017  ...  Overwhelmingly Positive              95   \n",
      "425         8/12/2016  ...          Mostly Positive              76   \n",
      "691         5/16/2011  ...  Overwhelmingly Positive              97   \n",
      "712        10/20/2022  ...  Overwhelmingly Positive              98   \n",
      "1180        7/27/2021  ...            Very Positive              84   \n",
      "...               ...  ...                      ...             ...   \n",
      "41154313     3/4/2013  ...  Overwhelmingly Positive              96   \n",
      "41154516    5/15/2020  ...            Very Positive              82   \n",
      "41154723    10/9/2020  ...          Mostly Positive              76   \n",
      "41154771   11/10/2016  ...            Very Positive              86   \n",
      "41154784    6/29/2023  ...            Very Positive              85   \n",
      "\n",
      "          user_reviews price_final  price_original  discount  steam_deck  \\\n",
      "422             146559       18.00            0.00         0        True   \n",
      "425             209971       60.00            0.00         0        True   \n",
      "691             943413       10.00            0.00         0        True   \n",
      "712             197109        5.00            0.00         0        True   \n",
      "1180             68869       29.00            0.00         0        True   \n",
      "...                ...         ...             ...       ...         ...   \n",
      "41154313        136055        2.99           14.99        80        True   \n",
      "41154516          1603       19.99           19.99         0        True   \n",
      "41154723          4341        6.24           24.99        75        True   \n",
      "41154771          8393       29.99           29.99         0        True   \n",
      "41154784         40328       20.00            0.00         0        True   \n",
      "\n",
      "                                                       tags  products  reviews  \n",
      "422                                                               880      154  \n",
      "425                                                               351      214  \n",
      "691                                                               752      128  \n",
      "712                                                               970      188  \n",
      "1180                                                             1949      215  \n",
      "...                                                     ...       ...      ...  \n",
      "41154313  Adventure Action Female Protagonist Third Pers...       558      199  \n",
      "41154516  Early Access Survival War Military Tanks Base ...      2830      730  \n",
      "41154723  Crafting Adventure Survival Online Co-Op Singl...      3038      757  \n",
      "41154771  RPG Choices Matter Story Rich Isometric Dark F...       774      326  \n",
      "41154784                                                          301      222  \n",
      "\n",
      "[587432 rows x 23 columns]\n"
     ]
    }
   ],
   "source": [
    "# Select the top 5,000 most active users\n",
    "top_users = recommendations_full[\"user_id\"].value_counts().head(5000).index\n",
    "\n",
    "# Select the top 5,000 most played games\n",
    "top_games = recommendations_full[\"app_id\"].value_counts().head(5000).index\n",
    "\n",
    "\n",
    "filtered_df = recommendations_full[\n",
    "    (recommendations_full[\"user_id\"].isin(top_users)) &\n",
    "    (recommendations_full[\"app_id\"].isin(top_games)) &\n",
    "    (recommendations_full[\"hours\"] > 2.5 )  # Remove entries with playtime less than 2.5 hour\n",
    "]\n",
    "\n",
    "\n",
    "print(filtered_df)"
   ]
  },
  {
   "cell_type": "markdown",
   "id": "izg7JBsRAEWb",
   "metadata": {
    "id": "izg7JBsRAEWb"
   },
   "source": [
    "### Step 6: Map ratings to numeric scores and compute a weighted score\n",
    "\n",
    "Define a mapping from textual ratings to numeric scores.\n",
    "Compute a weighted score combining playtime ('hours') and rating score.\n",
    "Fill any missing weighted_score values using a fallback based on hours."
   ]
  },
  {
   "cell_type": "code",
   "execution_count": null,
   "id": "e09f3288-d21f-490c-8866-901edc471696",
   "metadata": {
    "id": "e09f3288-d21f-490c-8866-901edc471696",
    "outputId": "fc010624-e3b4-4e49-85b5-c218c3e95126"
   },
   "outputs": [],
   "source": [
    "rating_map = {\n",
    "    \"Overwhelmingly Positive\": 4,\n",
    "    \"Very Positive\": 3,\n",
    "    \"Positive\": 2,\n",
    "    \"Mostly Positive\": 1,\n",
    "    \"Mixed\": 0,\n",
    "    \"Negative\": -1,\n",
    "    \"Mostly Negative\": -2,\n",
    "    \"Very Negative\": -3,\n",
    "    \"Overwhelmingly Negative\": -4\n",
    "}\n",
    "\n",
    "filtered_df.loc[:, \"rating_score\"] = filtered_df[\"rating\"].map(rating_map)\n",
    "filtered_df.loc[:, \"weighted_score\"] = 0.3 * filtered_df[\"hours\"] + 0.7 * filtered_df[\"rating_score\"]\n",
    "filtered_df.loc[:, \"weighted_score\"] = filtered_df[\"weighted_score\"].fillna(filtered_df[\"hours\"] * 0.7)"
   ]
  },
  {
   "cell_type": "markdown",
   "id": "7PyRCb8rAmlz",
   "metadata": {
    "id": "7PyRCb8rAmlz"
   },
   "source": [
    "### Step 7: Prepare data for collaborative filtering using the surprise library\n",
    "\n",
    "Create a Surprise Reader specifying the rating scale.\n",
    "Load the data from filtered_df (using 'user_id', 'app_id', and 'weighted_score') into a Surprise Dataset.\n",
    "Split the data into training and test sets."
   ]
  },
  {
   "cell_type": "code",
   "execution_count": null,
   "id": "1974bc24-4317-4adb-b419-5ba9d5c94285",
   "metadata": {
    "id": "1974bc24-4317-4adb-b419-5ba9d5c94285",
    "outputId": "61802b7f-e8b1-4f7e-b14a-b09892deecbf"
   },
   "outputs": [],
   "source": [
    "reader = Reader(rating_scale=(0, filtered_df[\"weighted_score\"].max()))\n",
    "data = Dataset.load_from_df(filtered_df[[\"user_id\", \"app_id\", \"weighted_score\"]], reader)"
   ]
  },
  {
   "cell_type": "markdown",
   "id": "ZiCYor-jA0rv",
   "metadata": {
    "id": "ZiCYor-jA0rv"
   },
   "source": [
    "### Step 8: Train collaborative filtering models with surprise\n",
    "\n",
    "Train an SVD model and compute its RMSE on the test set.\n",
    "Then, configure and train a KNN model (using cosine similarity, item-based) and evaluate its RMSE.\n",
    "\n"
   ]
  },
  {
   "cell_type": "code",
   "execution_count": null,
   "id": "b8980eeb-8df4-42b2-814b-bc15bc5006b5",
   "metadata": {
    "id": "b8980eeb-8df4-42b2-814b-bc15bc5006b5",
    "outputId": "52b7322c-a525-4d40-a56a-54d86d3b31ea"
   },
   "outputs": [],
   "source": [
    "trainset, testset = train_test_split(data, test_size=0.2)\n",
    "svd_model = SVD()\n",
    "svd_model.fit(trainset)\n",
    "\n",
    "predictions = svd_model.test(testset)\n",
    "accuracy.rmse(predictions)"
   ]
  },
  {
   "cell_type": "code",
   "execution_count": null,
   "id": "26c4232c-1966-44ea-97a0-7ac5b3a766ed",
   "metadata": {
    "id": "26c4232c-1966-44ea-97a0-7ac5b3a766ed",
    "outputId": "b4d16163-376e-48c2-cf15-728f9b574752"
   },
   "outputs": [],
   "source": [
    "sim_options = {\n",
    "    \"name\": \"cosine\",\n",
    "    \"user_based\": False\n",
    "}\n",
    "\n",
    "knn_model = KNNBasic(sim_options=sim_options)\n",
    "knn_model.fit(trainset)\n",
    "\n",
    "# KNNBasic\n",
    "knn_predictions = knn_model.test(testset)\n",
    "accuracy.rmse(knn_predictions)"
   ]
  },
  {
   "cell_type": "markdown",
   "id": "ilsWMFF6A_vE",
   "metadata": {
    "id": "ilsWMFF6A_vE"
   },
   "source": [
    "### Step 9: Define recommendation functions using collaborative filtering\n",
    "\n",
    "Define three functions:\n",
    "1. `recommend_games_svd`: Recommend games for a user using the SVD model.\n",
    "2. `recommend_new_games_knn`: Recommend new games (that the user hasn't played) using KNN.\n",
    "3. `recommend_similar_games_knn`: Recommend games similar to a given game (excluding the game itself) using KNN."
   ]
  },
  {
   "cell_type": "code",
   "execution_count": null,
   "id": "ad28d7d8-742f-411a-85c5-ccac3f621c8e",
   "metadata": {
    "id": "ad28d7d8-742f-411a-85c5-ccac3f621c8e",
    "outputId": "7cb40481-d2f9-46cc-ac70-5a31bf9bc4f9"
   },
   "outputs": [],
   "source": [
    "def recommend_games_svd(user_id, top_n=10):\n",
    "    # Who has ever played this game\n",
    "    played_games = filtered_df[filtered_df[\"user_id\"] == user_id][\"app_id\"].unique()\n",
    "    all_games = filtered_df[\"app_id\"].unique()\n",
    "    unplayed_games = [game for game in all_games if game not in played_games]\n",
    "\n",
    "    predictions = [svd_model.predict(user_id, game) for game in unplayed_games]\n",
    "\n",
    "    # top N\n",
    "    predictions.sort(key=lambda x: x.est, reverse=True)\n",
    "    top_games = [pred.iid for pred in predictions[:top_n]]\n",
    "\n",
    "    recommended_df = filtered_df[filtered_df[\"app_id\"].isin(top_games)][[\"app_id\", \"title\",\"tags\",\"positive_ratio\"]]\n",
    "\n",
    "    recommended_df = recommended_df.drop_duplicates(subset=[\"app_id\"])\n",
    "\n",
    "    return recommended_df\n",
    "\n",
    "# recommend to user based on SVD\n",
    "svd_recommendations = recommend_games_svd(6528047)\n",
    "\n",
    "display(svd_recommendations)"
   ]
  },
  {
   "cell_type": "code",
   "execution_count": null,
   "id": "6113f19a-fc51-4ba1-b564-3b77e09d4795",
   "metadata": {
    "id": "6113f19a-fc51-4ba1-b564-3b77e09d4795",
    "outputId": "97664b70-23ec-46db-919a-2dbf837a80bf"
   },
   "outputs": [],
   "source": [
    "def recommend_new_games_knn(user_id, top_n=10):\n",
    "    try:\n",
    "        # **Get the internal ID of the users**\n",
    "        inner_id = knn_model.trainset.to_inner_uid(user_id)\n",
    "\n",
    "        # **Get the most similar users**\n",
    "        neighbors = knn_model.get_neighbors(inner_id, k=top_n)\n",
    "\n",
    "        # **Convert back to the original user IDs**\n",
    "        similar_users = [knn_model.trainset.to_raw_uid(n) for n in neighbors]\n",
    "\n",
    "        # **Get the games that the user has already played**\n",
    "        user_played_games = set(filtered_df[filtered_df[\"user_id\"] == user_id][\"app_id\"].unique())\n",
    "\n",
    "        # **Get the games played by similar users**\n",
    "        similar_users_games = filtered_df[filtered_df[\"user_id\"].isin(similar_users)][[\"app_id\", \"title\", \"tags\", \"positive_ratio\"]]\n",
    "\n",
    "        # **Filter out the games the user has already played**\n",
    "        new_recommended_games = similar_users_games[~similar_users_games[\"app_id\"].isin(user_played_games)]\n",
    "\n",
    "        # **Remove duplicates and sort by rating (positive ratio)**\n",
    "        new_recommended_games = new_recommended_games.drop_duplicates(subset=[\"app_id\"]).sort_values(by=\"positive_ratio\", ascending=False).head(top_n)\n",
    "\n",
    "        return new_recommended_games\n",
    "\n",
    "    except Exception as e:\n",
    "        return f\"Error: {e}\"\n",
    "\n",
    "# **Example**: Recommend games that `user_id = 8107668` has not played\n",
    "knn_new_recommendations = recommend_new_games_knn(6528047)\n",
    "display(knn_new_recommendations)\n"
   ]
  },
  {
   "cell_type": "code",
   "execution_count": null,
   "id": "a6a9ab29-dc40-42dc-89d7-0910b5594e9e",
   "metadata": {
    "id": "a6a9ab29-dc40-42dc-89d7-0910b5594e9e",
    "outputId": "6831a1a5-0d9b-407d-c9c2-bb87c48cbff5"
   },
   "outputs": [],
   "source": [
    "def recommend_new_games_knn(user_id, top_n=10):\n",
    "    try:\n",
    "        # **Get the internal ID of the users**\n",
    "        inner_id = knn_model.trainset.to_inner_uid(user_id)\n",
    "\n",
    "        # **Get the most similar users**\n",
    "        neighbors = knn_model.get_neighbors(inner_id, k=top_n)\n",
    "\n",
    "        # **Convert back to the original user IDs**\n",
    "        similar_users = [knn_model.trainset.to_raw_uid(n) for n in neighbors]\n",
    "\n",
    "        # **Get the games that the user has already played**\n",
    "        user_played_games = set(filtered_df[filtered_df[\"user_id\"] == user_id][\"app_id\"].unique())\n",
    "\n",
    "        # **Get the games played by similar users**\n",
    "        similar_users_games = filtered_df[filtered_df[\"user_id\"].isin(similar_users)][[\"app_id\", \"title\", \"tags\", \"positive_ratio\"]]\n",
    "\n",
    "        # **Filtered out the games the user has already played**\n",
    "        new_recommended_games = similar_users_games[~similar_users_games[\"app_id\"].isin(user_played_games)]\n",
    "\n",
    "        # **Remove duplicates and sort by rating (positive rate) in descending order**\n",
    "        new_recommended_games = new_recommended_games.drop_duplicates(subset=[\"app_id\"]).sort_values(by=\"positive_ratio\", ascending=False).head(top_n)\n",
    "\n",
    "        return new_recommended_games\n",
    "\n",
    "    except Exception as e:\n",
    "        return f\"Error: {e}\"\n",
    "\n",
    "# **Example**：Recommend games that the user with `user_id = 8107668` has not played\n",
    "knn_new_recommendations = recommend_new_games_knn(6528047)\n",
    "display(knn_new_recommendations)"
   ]
  },
  {
   "cell_type": "code",
   "execution_count": null,
   "id": "c9473aea-542a-495f-994a-c488e28eb9ca",
   "metadata": {
    "id": "c9473aea-542a-495f-994a-c488e28eb9ca",
    "outputId": "d56fe5f5-88fb-4f3d-bba2-ab367c7b959e"
   },
   "outputs": [],
   "source": [
    "def recommend_similar_games_knn(game_id, top_n=10):\n",
    "    \"\"\"Recommend similar games using KNN (excluding the game itself)\"\"\"\n",
    "    try:\n",
    "        # **Get the internal ID of the game**\n",
    "        inner_id = knn_model.trainset.to_inner_iid(game_id)\n",
    "\n",
    "        # **Get the most similar games**\n",
    "        neighbors = knn_model.get_neighbors(inner_id, k=top_n + 1)  # Get one extra to avoid including itself\n",
    "\n",
    "        # **Convert back to the original game ID**\n",
    "        similar_games = [knn_model.trainset.to_raw_iid(n) for n in neighbors]\n",
    "\n",
    "        # **Remove the queried game itself**\n",
    "        similar_games = [gid for gid in similar_games if gid != game_id][:top_n]\n",
    "\n",
    "        # **Get the recommended game information**\n",
    "        recommended_dfknn = filtered_df[filtered_df[\"app_id\"].isin(similar_games)][[\"app_id\", \"title\", \"tags\", \"positive_ratio\"]]\n",
    "        recommended_dfknn = recommended_dfknn.drop_duplicates(subset=[\"app_id\"]).sort_values(by=\"positive_ratio\", ascending=False)\n",
    "\n",
    "        return recommended_dfknn.head(top_n)\n",
    "\n",
    "    except Exception as e:\n",
    "        return f\"Error: {e}\"\n",
    "\n",
    "# **Example**: Get the game most similar to `app_id = 203160` (excluding itself)\n",
    "knn_recommendations = recommend_similar_games_knn(1245620)\n",
    "display(knn_recommendations)\n"
   ]
  },
  {
   "cell_type": "markdown",
   "id": "DdqfhunSBUyM",
   "metadata": {
    "id": "DdqfhunSBUyM"
   },
   "source": [
    "### Step 10: Prepare data for neural network recommender\n",
    "\n",
    "Use scikit-learn to encode user and game IDs, split data into training and test sets, and extract rating data.\n",
    "Also, apply log transformation and normalization on the rating (weighted_score) for numerical stability."
   ]
  },
  {
   "cell_type": "code",
   "execution_count": null,
   "id": "b8ecf696-fb61-4924-a497-04f01ce13ef7",
   "metadata": {
    "id": "b8ecf696-fb61-4924-a497-04f01ce13ef7",
    "outputId": "411c8e18-15eb-40c1-e1e1-617509dab6e2"
   },
   "outputs": [],
   "source": [
    "from sklearn.model_selection import train_test_split\n",
    "from sklearn.preprocessing import LabelEncoder, StandardScaler\n",
    "\n",
    "# Filter data to ensure there are no NaN values\n",
    "filtered_df = filtered_df.dropna(subset=[\"user_id\", \"app_id\", \"weighted_score\"])\n",
    "\n",
    "# Initialize encoders\n",
    "user_encoder = LabelEncoder()\n",
    "game_encoder = LabelEncoder()\n",
    "\n",
    "# First, fit on the entire dataset\n",
    "filtered_df[\"user_encoded\"] = user_encoder.fit_transform(filtered_df[\"user_id\"])\n",
    "filtered_df[\"game_encoded\"] = game_encoder.fit_transform(filtered_df[\"app_id\"])\n",
    "\n",
    "# Split into training & test sets\n",
    "train, test = train_test_split(filtered_df, test_size=0.2, random_state=42)\n",
    "\n",
    "# Apply transform() on both train and test sets for consistency\n",
    "train[\"user_encoded\"] = user_encoder.transform(train[\"user_id\"])\n",
    "test[\"user_encoded\"] = user_encoder.transform(test[\"user_id\"])\n",
    "\n",
    "train[\"game_encoded\"] = game_encoder.transform(train[\"app_id\"])\n",
    "test[\"game_encoded\"] = game_encoder.transform(test[\"app_id\"])\n",
    "\n",
    "# ✅ **Extract user, game, and rating data**\n",
    "train_users = train[\"user_encoded\"].values\n",
    "train_games = train[\"game_encoded\"].values\n",
    "train_scores = train[\"weighted_score\"].values  # Rating data\n",
    "\n",
    "test_users = test[\"user_encoded\"].values\n",
    "test_games = test[\"game_encoded\"].values\n",
    "test_scores = test[\"weighted_score\"].values  # Rating data\n",
    "\n",
    "# ✅ **Apply `log1p` transformation on the rating data**\n",
    "train_scores_log = np.log1p(train_scores)\n",
    "test_scores_log = np.log1p(test_scores)\n",
    "\n",
    "train_scores[train_scores < 0] = 0\n",
    "test_scores[test_scores < 0] = 0\n",
    "train_scores_log = np.log1p(train_scores)\n",
    "test_scores_log = np.log1p(test_scores)\n",
    "train_scores_log = np.nan_to_num(train_scores_log, nan=0, posinf=0, neginf=0)\n",
    "test_scores_log = np.nan_to_num(test_scores_log, nan=0, posinf=0, neginf=0)\n",
    "\n",
    "# ✅ **Normalize the rating data**\n",
    "scaler = StandardScaler()\n",
    "train_scores_scaled = scaler.fit_transform(train_scores_log.reshape(-1, 1)).flatten()\n",
    "test_scores_scaled = scaler.transform(test_scores_log.reshape(-1, 1)).flatten()\n",
    "\n",
    "game_encoder.fit(filtered_df[\"app_id\"])  # First, fit on the entire dataset\n",
    "train[\"game_encoded\"] = game_encoder.transform(train[\"app_id\"])\n",
    "test[\"game_encoded\"] = game_encoder.transform(test[\"app_id\"])\n"
   ]
  },
  {
   "cell_type": "markdown",
   "id": "xB4ehXtvBni-",
   "metadata": {
    "id": "xB4ehXtvBni-"
   },
   "source": [
    "### Step 11: Define and train the neural network model\n",
    "\n",
    "Build a neural network model using Keras.\n",
    "The model consists of two embedding layers (for user and game IDs), followed by dense layers and dropout for regularization.\n",
    "The final layer outputs a continuous rating prediction."
   ]
  },
  {
   "cell_type": "code",
   "execution_count": null,
   "id": "46d165e5-f590-438e-afa5-f1fe962d14ab",
   "metadata": {
    "id": "46d165e5-f590-438e-afa5-f1fe962d14ab",
    "outputId": "47b6b795-0d46-4792-d20c-28349180dfb8"
   },
   "outputs": [],
   "source": [
    "from keras.layers import Dropout\n",
    "\n",
    "# Define the dimension for the embedding layers\n",
    "embedding_dim = 64  # The dimension can be adjusted, typically 32~128\n",
    "\n",
    "# User input layer\n",
    "user_input = keras.layers.Input(shape=(1,), name=\"user_input\")\n",
    "user_embedding = keras.layers.Embedding(\n",
    "    input_dim=len(user_encoder.classes_), output_dim=embedding_dim, name=\"user_embedding\"\n",
    ")(user_input)\n",
    "user_vec = keras.layers.Flatten()(user_embedding)\n",
    "\n",
    "# Game input layer\n",
    "game_input = keras.layers.Input(shape=(1,), name=\"game_input\")\n",
    "game_embedding = keras.layers.Embedding(\n",
    "    input_dim=len(game_encoder.classes_), output_dim=embedding_dim, name=\"game_embedding\"\n",
    ")(game_input)\n",
    "game_vec = keras.layers.Flatten()(game_embedding)\n",
    "\n",
    "# Merge user & game features\n",
    "merged = keras.layers.Concatenate()([user_vec, game_vec])\n",
    "hidden = keras.layers.Dense(128, activation=\"relu\")(merged)\n",
    "hidden = Dropout(0.2)(hidden)\n",
    "hidden = keras.layers.Dense(64, activation=\"relu\")(hidden)\n",
    "output = keras.layers.Dense(1, activation=\"linear\")(hidden)  # Predict rating\n",
    "\n",
    "# Build the model\n",
    "model = keras.models.Model([user_input, game_input], output)\n",
    "model.compile(optimizer=\"adam\", loss=\"mse\", metrics=[\"mae\"])\n",
    "\n",
    "# Print the model summary\n",
    "model.summary()\n"
   ]
  },
  {
   "cell_type": "markdown",
   "id": "4s3uW52NBu6w",
   "metadata": {
    "id": "4s3uW52NBu6w"
   },
   "source": [
    "### Step 12: Train the neural network\n",
    "\n",
    "Train the neural network using the training data.\n",
    "We use a batch size of 512 over 11 epochs."
   ]
  },
  {
   "cell_type": "code",
   "execution_count": null,
   "id": "4e3ecbb6-2e04-4bb0-95f8-1c3ae2c3c947",
   "metadata": {
    "id": "4e3ecbb6-2e04-4bb0-95f8-1c3ae2c3c947",
    "outputId": "1692a276-9959-47ec-d24c-d553b48f1e1b"
   },
   "outputs": [],
   "source": [
    "train_users = train[\"user_encoded\"].values\n",
    "train_games = train[\"game_encoded\"].values\n",
    "train_scores = train[\"weighted_score\"].values\n",
    "\n",
    "\n",
    "test_users = test[\"user_encoded\"].values\n",
    "test_games = test[\"game_encoded\"].values\n",
    "test_scores = test[\"weighted_score\"].values\n",
    "\n",
    "\n",
    "history = model.fit(\n",
    "    [train_users, train_games], train_scores,\n",
    "    validation_data=([test_users, test_games], test_scores),\n",
    "    epochs=11, batch_size=512, verbose=1\n",
    ")"
   ]
  },
  {
   "cell_type": "code",
   "execution_count": null,
   "id": "8da91f18-a319-45e5-b437-1df4690b483e",
   "metadata": {
    "id": "8da91f18-a319-45e5-b437-1df4690b483e",
    "outputId": "981db0c8-8bb3-4cdd-e38a-e2438312dfe9"
   },
   "outputs": [],
   "source": [
    "def recommend_games_nn(user_id, top_n=10):\n",
    "    user_id = int(user_id)\n",
    "\n",
    "    user_idx = user_encoder.transform([user_id])[0]\n",
    "\n",
    "    all_games = np.array(range(len(game_encoder.classes_)))\n",
    "    predicted_scores = model.predict([np.array([user_idx] * len(all_games)), all_games])\n",
    "\n",
    "    top_games_idx = np.argsort(predicted_scores.flatten())[::-1][:top_n]\n",
    "    top_games_ids = game_encoder.inverse_transform(top_games_idx)\n",
    "\n",
    "    recommended_df = filtered_df[filtered_df[\"app_id\"].isin(top_games_ids)][[\"app_id\", \"title\", \"tags\",\"positive_ratio\"]]\n",
    "    recommended_df = recommended_df.drop_duplicates(subset=[\"app_id\"]).head(top_n)\n",
    "\n",
    "    return recommended_df\n",
    "\n",
    "# recommendation to user_id\n",
    "nn_recommendations = recommend_games_nn(9850860)\n",
    "\n",
    "display(nn_recommendations)"
   ]
  },
  {
   "cell_type": "code",
   "execution_count": null,
   "id": "5c3ee6a9-755b-46f2-a478-b8ca23cac3f8",
   "metadata": {
    "id": "5c3ee6a9-755b-46f2-a478-b8ca23cac3f8",
    "outputId": "7769e7ab-9762-4df3-aa31-a4cd44cd5b1c"
   },
   "outputs": [],
   "source": [
    "def recommend_similar_games_nn(app_id, top_n=10):\n",
    "    app_id = int(app_id)\n",
    "\n",
    "    # **Get the index of the game**\n",
    "    game_idx = game_encoder.transform([app_id])[0]\n",
    "\n",
    "    # **Extract the `game_embedding` layer from the neural network**\n",
    "    game_embedding_layer = model.get_layer(\"game_embedding\")\n",
    "    game_embedding_weights = game_embedding_layer.get_weights()[0]  # (num_games, embedding_dim)\n",
    "\n",
    "    # **Get the embedding vector of the target game**\n",
    "    target_game_vector = game_embedding_weights[game_idx].reshape(1, -1)  # (1, embedding_dim)\n",
    "\n",
    "    # **Retrieve all game embeddings**\n",
    "    all_game_vectors = game_embedding_weights  # (num_games, embedding_dim)\n",
    "\n",
    "    # **Calculate the L2 distance to other games**\n",
    "    distances = np.linalg.norm(all_game_vectors - target_game_vector, axis=1)\n",
    "\n",
    "    # **Get the top-N closest games (excluding the game itself)**\n",
    "    top_games_idx = np.argsort(distances)[1:top_n+1]  # Exclude itself (index 0)\n",
    "\n",
    "    # **Convert back to game IDs**\n",
    "    top_games_ids = game_encoder.inverse_transform(top_games_idx)\n",
    "\n",
    "    # **Get the recommended game information**\n",
    "    recommended_df = filtered_df[filtered_df[\"app_id\"].isin(top_games_ids)][[\"app_id\", \"title\", \"tags\", \"positive_ratio\"]]\n",
    "    recommended_df = recommended_df.drop_duplicates(subset=[\"app_id\"]).head(top_n)\n",
    "\n",
    "    return recommended_df\n",
    "\n",
    "# Finding the similar games\n",
    "similar_games_nn = recommend_similar_games_nn(1245620)\n",
    "display(similar_games_nn)\n"
   ]
  },
  {
   "cell_type": "markdown",
   "id": "2-IqpZyaB30y",
   "metadata": {
    "id": "2-IqpZyaB30y"
   },
   "source": [
    "### Step 14: Evaluate the neural network model\n",
    "\n",
    "Evaluate the neural network on the test set using Keras's evaluate() function.\n",
    "We compute RMSE (Root Mean Squared Error) from the returned MSE.\n",
    "Also, we compare with RMSE values from the SVD and KNN models (from the Surprise library)."
   ]
  },
  {
   "cell_type": "code",
   "execution_count": null,
   "id": "d65dae26-d786-4156-ab85-8c71dfa73afd",
   "metadata": {
    "id": "d65dae26-d786-4156-ab85-8c71dfa73afd",
    "outputId": "718cff96-d5b5-4739-b9b8-6fea64731772"
   },
   "outputs": [],
   "source": [
    "# Evaluate the Model\n",
    "# Directly compute RMSE using Keras\n",
    "score = model.evaluate([test_users, test_games], test_scores, batch_size=512, verbose=1)\n",
    "\n",
    "# Keras returns MSE (Mean Squared Error) by default, so take the square root to get RMSE\n",
    "rmse = np.sqrt(score[0])\n",
    "\n",
    "print(\"Test RMSE:\", rmse)\n"
   ]
  },
  {
   "cell_type": "code",
   "execution_count": null,
   "id": "874dc20e-c23e-47da-9740-27e93d244581",
   "metadata": {
    "id": "874dc20e-c23e-47da-9740-27e93d244581",
    "outputId": "8cf5c6af-1122-4054-b1a7-7f2b4b47c0b2"
   },
   "outputs": [],
   "source": [
    "from sklearn.metrics import mean_squared_error\n",
    "print(\"SVD RMSE:\", accuracy.rmse(predictions))\n",
    "print(\"KNN RMSE:\", accuracy.rmse(knn_predictions))"
   ]
  },
  {
   "cell_type": "markdown",
   "id": "j1_OJ1A-CJbZ",
   "metadata": {
    "id": "j1_OJ1A-CJbZ"
   },
   "source": [
    "### Step 15: Explore specific data queries\n",
    "\n",
    "Perform sample queries on the data.\n",
    "For example, filter games that have \"Elden Ring\" in their title, and list the games played by a specific user (sorted by hours played).\n",
    "\"\"\""
   ]
  },
  {
   "cell_type": "code",
   "execution_count": null,
   "id": "731867de-0e67-4220-89c9-601701585038",
   "metadata": {
    "id": "731867de-0e67-4220-89c9-601701585038",
    "outputId": "63af30ed-8670-44e6-bb6d-d608d406fe93"
   },
   "outputs": [],
   "source": [
    "filtered_df[filtered_df[\"title\"].str.contains(\"Elden Ring\", case=False, na=False)]"
   ]
  },
  {
   "cell_type": "code",
   "execution_count": null,
   "id": "7fd1f243-175c-4917-b37d-eb9d25fc5b34",
   "metadata": {
    "id": "7fd1f243-175c-4917-b37d-eb9d25fc5b34",
    "outputId": "f3192431-ac3e-46dd-94b8-e58084dd8e97"
   },
   "outputs": [],
   "source": [
    "user_games = filtered_df[filtered_df[\"user_id\"] == 9850860][[\"app_id\", \"title\", \"hours\"]]\n",
    "user_games = user_games.sort_values(by=\"hours\", ascending=False)  # Sort in descending order\n",
    "display(user_games)\n"
   ]
  }
 ],
 "metadata": {
  "colab": {
   "provenance": []
  },
  "kernelspec": {
   "display_name": "Python [conda env:base] *",
   "language": "python",
   "name": "conda-base-py"
  },
  "language_info": {
   "codemirror_mode": {
    "name": "ipython",
    "version": 3
   },
   "file_extension": ".py",
   "mimetype": "text/x-python",
   "name": "python",
   "nbconvert_exporter": "python",
   "pygments_lexer": "ipython3",
   "version": "3.12.7"
  }
 },
 "nbformat": 4,
 "nbformat_minor": 5
}
